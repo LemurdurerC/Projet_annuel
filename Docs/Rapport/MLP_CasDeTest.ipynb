{
  "nbformat": 4,
  "nbformat_minor": 0,
  "metadata": {
    "colab": {
      "name": "MLP_CasDeTest.ipynb",
      "provenance": [],
      "collapsed_sections": []
    },
    "kernelspec": {
      "name": "python3",
      "display_name": "Python 3"
    }
  },
  "cells": [
    {
      "cell_type": "markdown",
      "metadata": {
        "id": "u1RJ_fnJ4oxQ",
        "colab_type": "text"
      },
      "source": [
        "# RAPPORT INTERACTIF JUPYTER : CAS DE TEST DU MLP"
      ]
    },
    {
      "cell_type": "markdown",
      "metadata": {
        "id": "lfFb-MZX4xtU",
        "colab_type": "text"
      },
      "source": [
        "GROUPE:\n",
        "    - CAMPOS Claudomir\n",
        "    - RATSIMATAHOMANANA Ny Heja Finaritra\n",
        "    - ROGERALY Naresh\n",
        "    \n",
        "SUJET:\n",
        "    - Reconnaissance d'émotion (3 classes : joie, neutre, colère) par une photo de nos visages"
      ]
    },
    {
      "cell_type": "code",
      "metadata": {
        "id": "pi-BtzEE4gmo",
        "colab_type": "code",
        "colab": {}
      },
      "source": [
        "!pip install tensorflow keras\n",
        "import tensorflow.keras as keras\n",
        "import matplotlib.pyplot as plt\n",
        "import numpy as np"
      ],
      "execution_count": null,
      "outputs": []
    },
    {
      "cell_type": "markdown",
      "metadata": {
        "id": "LzT3wfAK4495",
        "colab_type": "text"
      },
      "source": [
        "# MLP"
      ]
    },
    {
      "cell_type": "markdown",
      "metadata": {
        "id": "mjPemkJt49em",
        "colab_type": "text"
      },
      "source": [
        "CLASSIFICATION"
      ]
    },
    {
      "cell_type": "code",
      "metadata": {
        "id": "VN5ynuxb40kX",
        "colab_type": "code",
        "colab": {}
      },
      "source": [
        "#Linear Simple\n",
        "A = np.array([\n",
        "      [1, 1],\n",
        "      [2, 3],\n",
        "      [3, 3]\n",
        "])\n",
        "B = np.array([\n",
        "      1,\n",
        "      -1,\n",
        "      -1\n",
        "])\n",
        "\n",
        "\n",
        "#Linear Multiple\n",
        "C = np.concatenate([np.random.random((50,2)) * 0.9 + np.array([1, 1]), np.random.random((50,2)) * 0.9 + np.array([2, 2])])\n",
        "D = np.concatenate([np.ones((50, 1)), np.ones((50, 1)) * -1.0])\n",
        "Dflat = D.flatten()\n",
        "\n",
        "\n",
        "#XOR\n",
        "E = np.array([[1, 0], [0, 1], [0, 0], [1, 1]])\n",
        "F = np.array([1, 1, -1, -1])\n",
        "\n",
        "\n",
        "#Cross\n",
        "G = np.random.random((500, 2)) * 2.0 - 1.0\n",
        "H = np.array([1 if abs(p[0]) <= 0.3 or abs(p[1]) <= 0.3 else -1 for p in G])\n"
      ],
      "execution_count": 5,
      "outputs": []
    },
    {
      "cell_type": "markdown",
      "metadata": {
        "id": "p0z1LEUy5C07",
        "colab_type": "text"
      },
      "source": [
        "REGRESSION"
      ]
    },
    {
      "cell_type": "code",
      "metadata": {
        "id": "Yn85LrQn5DRg",
        "colab_type": "code",
        "colab": {}
      },
      "source": [
        "#Linear Simple 2D\n",
        "I = np.array([\n",
        "      [1],\n",
        "      [2]\n",
        "])\n",
        "J = np.array([\n",
        "      2,\n",
        "      3\n",
        "])\n",
        "\n",
        "\n",
        "#Non linear Simple 2D\n",
        "K = np.array([\n",
        "      [1],\n",
        "      [2],\n",
        "      [3]\n",
        "])\n",
        "L = np.array([\n",
        "      2,\n",
        "      3,\n",
        "      2.5\n",
        "])\n",
        "\n",
        "\n",
        "#Linear Simple 3D\n",
        "M = np.array([\n",
        "      [1, 1],\n",
        "      [2, 2],\n",
        "      [3, 1]\n",
        "])\n",
        "N = np.array([\n",
        "      2,\n",
        "      3,\n",
        "      2.5\n",
        "])\n",
        "\n",
        "\n",
        "#Linear Tricky 3D\n",
        "O = np.array([\n",
        "      [1, 1],\n",
        "      [2, 2],\n",
        "      [3, 3]\n",
        "])\n",
        "P = np.array([\n",
        "      1,\n",
        "      2,\n",
        "      3\n",
        "])\n",
        "\n",
        "\n",
        "#Non Linear Simple 3D\n",
        "Q = np.array([\n",
        "      [1, 0],\n",
        "      [0, 1],\n",
        "      [1, 1],\n",
        "      [0, 0],\n",
        "])\n",
        "R = np.array([\n",
        "      2,\n",
        "      1,\n",
        "      -2,\n",
        "      -1\n",
        "])\n",
        "\n",
        "enter = C\n",
        "exit = D"
      ],
      "execution_count": 6,
      "outputs": []
    },
    {
      "cell_type": "code",
      "metadata": {
        "id": "wAMVGRjw5FLt",
        "colab_type": "code",
        "colab": {}
      },
      "source": [
        "model = keras.models.Sequential()\n",
        "model.add(keras.layers.Dense(2, activation=keras.activations.tanh, input_dim=2))\n",
        "model.add(keras.layers.Dense(3, activation=keras.activations.tanh))\n",
        "model.add(keras.layers.Dense(1, activation=keras.activations.tanh))"
      ],
      "execution_count": 10,
      "outputs": []
    },
    {
      "cell_type": "code",
      "metadata": {
        "id": "Xa1zqTFZ5X0-",
        "colab_type": "code",
        "colab": {}
      },
      "source": [
        "model.save('MLP_before_training.keras')\n",
        "#np.sign(model.predict(enter))"
      ],
      "execution_count": 11,
      "outputs": []
    },
    {
      "cell_type": "code",
      "metadata": {
        "id": "8Dt6q9jB5cK4",
        "colab_type": "code",
        "colab": {}
      },
      "source": [
        "model.compile(loss=keras.losses.mean_squared_error,\n",
        "              optimizer=keras.optimizers.SGD(lr=0.01),\n",
        "               metrics=['accuracy'])\n",
        "\n",
        "\n",
        "model.fit(enter, exit, epochs=100, batch_size=1)"
      ],
      "execution_count": null,
      "outputs": []
    },
    {
      "cell_type": "code",
      "metadata": {
        "id": "9nlH4Mze5eSK",
        "colab_type": "code",
        "colab": {
          "base_uri": "https://localhost:8080/",
          "height": 50
        },
        "outputId": "f57fd67e-a886-4856-f25a-f4ee6fdbb959"
      },
      "source": [
        "val_loss, val_acc = model.evaluate(enter, exit)\n",
        "print(val_loss,val_acc)"
      ],
      "execution_count": 13,
      "outputs": [
        {
          "output_type": "stream",
          "text": [
            "4/4 [==============================] - 0s 2ms/step - loss: 8.2179e-04 - accuracy: 0.5000\n",
            "0.0008217854192480445 0.5\n"
          ],
          "name": "stdout"
        }
      ]
    },
    {
      "cell_type": "code",
      "metadata": {
        "id": "p6Vb5pG05jku",
        "colab_type": "code",
        "colab": {}
      },
      "source": [
        "np.sign(model.predict(enter))"
      ],
      "execution_count": null,
      "outputs": []
    },
    {
      "cell_type": "code",
      "metadata": {
        "id": "vmt7erNO5ljd",
        "colab_type": "code",
        "colab": {}
      },
      "source": [
        "keras.backend.clear_session()"
      ],
      "execution_count": null,
      "outputs": []
    }
  ]
}