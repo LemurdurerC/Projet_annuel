{
  "nbformat": 4,
  "nbformat_minor": 0,
  "metadata": {
    "kernelspec": {
      "name": "python3",
      "display_name": "Python 3",
      "language": "python"
    },
    "language_info": {
      "name": "python",
      "version": "3.6.10",
      "mimetype": "text/x-python",
      "codemirror_mode": {
        "name": "ipython",
        "version": 3
      },
      "pygments_lexer": "ipython3",
      "nbconvert_exporter": "python",
      "file_extension": ".py"
    },
    "colab": {
      "name": "Modele_lineaire_CasDeTest.ipynb",
      "provenance": [],
      "collapsed_sections": []
    }
  },
  "cells": [
    {
      "cell_type": "markdown",
      "metadata": {
        "id": "uPpUEYTbFKP-",
        "colab_type": "text"
      },
      "source": [
        "# RAPPORT INTERACTIF JUPYTER : CAS DE TEST DU MODELE LINEAIRE"
      ]
    },
    {
      "cell_type": "markdown",
      "metadata": {
        "id": "wGAaI6fZFKP_",
        "colab_type": "raw"
      },
      "source": [
        "GROUPE:\n",
        "    - CAMPOS Claudomir\n",
        "    - RATSIMATAHOMANANA Ny Heja Finaritra\n",
        "    - ROGERALY Naresh\n",
        "    \n",
        "SUJET:\n",
        "    - Reconnaissance d'émotion (3 classes : joie, neutre, colère) par une photo de nos visages"
      ]
    },
    {
      "cell_type": "code",
      "metadata": {
        "trusted": true,
        "scrolled": true,
        "id": "slq5au8iFKQA",
        "colab_type": "code",
        "colab": {}
      },
      "source": [
        "!pip install tensorflow keras\n",
        "import tensorflow.keras as keras\n",
        "import matplotlib.pyplot as plt\n",
        "import numpy as np"
      ],
      "execution_count": null,
      "outputs": []
    },
    {
      "cell_type": "markdown",
      "metadata": {
        "id": "pb-4AdWVFKQD",
        "colab_type": "text"
      },
      "source": [
        "# Linear Model"
      ]
    },
    {
      "cell_type": "markdown",
      "metadata": {
        "id": "-RVDwk_Ra0OR",
        "colab_type": "text"
      },
      "source": [
        "CLASSIFICATION"
      ]
    },
    {
      "cell_type": "code",
      "metadata": {
        "trusted": true,
        "id": "OaVe7WEZFKQE",
        "colab_type": "code",
        "colab": {}
      },
      "source": [
        "#Linear Simple\n",
        "A = np.array([\n",
        "      [1, 1],\n",
        "      [2, 3],\n",
        "      [3, 3]\n",
        "])\n",
        "B = np.array([\n",
        "      1,\n",
        "      -1,\n",
        "      -1\n",
        "])\n",
        "\n",
        "\n",
        "#Linear Multiple\n",
        "C = np.concatenate([np.random.random((50,2)) * 0.9 + np.array([1, 1]), np.random.random((50,2)) * 0.9 + np.array([2, 2])])\n",
        "D = np.concatenate([np.ones((50, 1)), np.ones((50, 1)) * -1.0])\n",
        "Dflat = D.flatten()\n",
        "\n",
        "\n",
        "#XOR\n",
        "E = np.array([[1, 0], [0, 1], [0, 0], [1, 1]])\n",
        "F = np.array([1, 1, -1, -1])\n",
        "\n",
        "\n",
        "#Cross\n",
        "G = np.random.random((500, 2)) * 2.0 - 1.0\n",
        "H = np.array([1 if abs(p[0]) <= 0.3 or abs(p[1]) <= 0.3 else -1 for p in G])\n"
      ],
      "execution_count": 128,
      "outputs": []
    },
    {
      "cell_type": "markdown",
      "metadata": {
        "id": "KlyhSSBIbb3R",
        "colab_type": "text"
      },
      "source": [
        "REGRESSION"
      ]
    },
    {
      "cell_type": "code",
      "metadata": {
        "id": "WDKWe2HEbdqH",
        "colab_type": "code",
        "colab": {}
      },
      "source": [
        "#Linear Simple 2D\n",
        "I = np.array([\n",
        "      [1],\n",
        "      [2]\n",
        "])\n",
        "J = np.array([\n",
        "      2,\n",
        "      3\n",
        "])\n",
        "\n",
        "\n",
        "#Non linear Simple 2D\n",
        "K = np.array([\n",
        "      [1],\n",
        "      [2],\n",
        "      [3]\n",
        "])\n",
        "L = np.array([\n",
        "      2,\n",
        "      3,\n",
        "      2.5\n",
        "])\n",
        "\n",
        "\n",
        "#Linear Simple 3D\n",
        "M = np.array([\n",
        "      [1, 1],\n",
        "      [2, 2],\n",
        "      [3, 1]\n",
        "])\n",
        "N = np.array([\n",
        "      2,\n",
        "      3,\n",
        "      2.5\n",
        "])\n",
        "\n",
        "\n",
        "#Linear Tricky 3D\n",
        "O = np.array([\n",
        "      [1, 1],\n",
        "      [2, 2],\n",
        "      [3, 3]\n",
        "])\n",
        "P = np.array([\n",
        "      1,\n",
        "      2,\n",
        "      3\n",
        "])\n",
        "\n",
        "\n",
        "#Non Linear Simple 3D\n",
        "Q = np.array([\n",
        "      [1, 0],\n",
        "      [0, 1],\n",
        "      [1, 1],\n",
        "      [0, 0],\n",
        "])\n",
        "R = np.array([\n",
        "      2,\n",
        "      1,\n",
        "      -2,\n",
        "      -1\n",
        "])\n",
        "\n",
        "enter = C\n",
        "exit = D"
      ],
      "execution_count": null,
      "outputs": []
    },
    {
      "cell_type": "code",
      "metadata": {
        "trusted": true,
        "id": "QHJL_ya3FKQH",
        "colab_type": "code",
        "colab": {}
      },
      "source": [
        "model = keras.models.Sequential()\n",
        "model.add(keras.layers.Dense(2, activation=keras.activations.tanh, input_dim=2))\n",
        "model.add(keras.layers.Dense(1, activation=keras.activations.tanh))"
      ],
      "execution_count": 122,
      "outputs": []
    },
    {
      "cell_type": "code",
      "metadata": {
        "trusted": true,
        "id": "KcpyxbQWFKQJ",
        "colab_type": "code",
        "colab": {}
      },
      "source": [
        "model.save('linarModel_before_training.keras')\n",
        "#np.sign(model.predict(enter))"
      ],
      "execution_count": 123,
      "outputs": []
    },
    {
      "cell_type": "code",
      "metadata": {
        "trusted": true,
        "id": "r76YmKvrFKQL",
        "colab_type": "code",
        "colab": {}
      },
      "source": [
        "model.compile(loss=keras.losses.mean_squared_error,\n",
        "              optimizer=keras.optimizers.SGD(lr=0.01),\n",
        "               metrics=['accuracy'])\n",
        "\n",
        "\n",
        "model.fit(enter, exit, epochs=100, batch_size=1)"
      ],
      "execution_count": null,
      "outputs": []
    },
    {
      "cell_type": "code",
      "metadata": {
        "id": "gw-44s_axyzy",
        "colab_type": "code",
        "colab": {
          "base_uri": "https://localhost:8080/",
          "height": 50
        },
        "outputId": "3a9f36e2-6a45-47ea-b5b7-5f3923affb75"
      },
      "source": [
        "val_loss, val_acc = model.evaluate(enter, exit)\n",
        "print(val_loss,val_acc)"
      ],
      "execution_count": 125,
      "outputs": [
        {
          "output_type": "stream",
          "text": [
            "4/4 [==============================] - 0s 2ms/step - loss: 0.0050 - accuracy: 0.4900\n",
            "0.0050360835157334805 0.49000000953674316\n"
          ],
          "name": "stdout"
        }
      ]
    },
    {
      "cell_type": "code",
      "metadata": {
        "trusted": true,
        "id": "u12J8QIXFKQN",
        "colab_type": "code",
        "colab": {}
      },
      "source": [
        "np.sign(model.predict(enter))"
      ],
      "execution_count": null,
      "outputs": []
    },
    {
      "cell_type": "code",
      "metadata": {
        "id": "_XjajN2BsG0k",
        "colab_type": "code",
        "colab": {}
      },
      "source": [
        "keras.backend.clear_session()"
      ],
      "execution_count": 127,
      "outputs": []
    }
  ]
}