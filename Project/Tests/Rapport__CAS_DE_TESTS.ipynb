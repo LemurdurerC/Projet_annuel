{
  "nbformat": 4,
  "nbformat_minor": 0,
  "metadata": {
    "colab": {
      "name": "Rapport_ CAS DE TESTS.ipynb",
      "provenance": [],
      "collapsed_sections": []
    },
    "kernelspec": {
      "name": "python3",
      "display_name": "Python 3"
    }
  },
  "cells": [
    {
      "cell_type": "markdown",
      "metadata": {
        "id": "MlaksdgDxaA6",
        "colab_type": "text"
      },
      "source": [
        "# Cas de tests"
      ]
    },
    {
      "cell_type": "markdown",
      "metadata": {
        "id": "S50GrcOYnCWr",
        "colab_type": "text"
      },
      "source": [
        "Prérequis du MLP : \n",
        "- Notre MLP, pour fonctionner, a besoin d'être informé sur le nombre de couche et le nombre de neuron par couche par l'intérmédiaire d'un tableau \n",
        "- Nous n'avons pas eu le temps d'appeler les fonctions cotés python mais nous avons bien les résultats attendus coté C++\n"
      ]
    },
    {
      "cell_type": "markdown",
      "metadata": {
        "id": "_qYwTgKqxnkl",
        "colab_type": "text"
      },
      "source": [
        "## Classification"
      ]
    },
    {
      "cell_type": "markdown",
      "metadata": {
        "id": "-d0zULTsyFhh",
        "colab_type": "text"
      },
      "source": [
        "### Linear Simple :\n",
        "        Linear Model : OK\n",
        "        MLP (2, 1)   : OK"
      ]
    },
    {
      "cell_type": "code",
      "metadata": {
        "id": "EktwRhEMxV2A",
        "colab_type": "code",
        "colab": {}
      },
      "source": [
        "X = np.array([\n",
        "      [1, 1],\n",
        "      [2, 3],\n",
        "      [3, 3]\n",
        "])\n",
        "Y = np.array([\n",
        "      1,\n",
        "      -1,\n",
        "      -1\n",
        "])"
      ],
      "execution_count": 0,
      "outputs": []
    },
    {
      "cell_type": "markdown",
      "metadata": {
        "id": "AASu3A6yoIBE",
        "colab_type": "text"
      },
      "source": [
        "Avec un nombre d'itération de 100000 et un alpha de 0.1, on  a pu approximer les résultats attendus"
      ]
    },
    {
      "cell_type": "markdown",
      "metadata": {
        "colab_type": "text",
        "id": "7v8KFue-zmCv"
      },
      "source": [
        "### Linear Multiple :\n",
        "        Linear Model : OK\n",
        "        MLP (2, 1)   : OK"
      ]
    },
    {
      "cell_type": "code",
      "metadata": {
        "colab_type": "code",
        "id": "hZlnpb-qzmCw",
        "colab": {}
      },
      "source": [
        "import matplotlib.pyplot as plt\n",
        "import numpy as np\n",
        "X = np.concatenate([np.random.random((50,2)) * 0.9 + np.array([1, 1]), np.random.random((50,2)) * 0.9 + np.array([2, 2])])\n",
        "Y = np.concatenate([np.ones((50, 2)), np.ones((50, 2)) * -1.0])\n",
        "np.random.random((50,2))"
      ],
      "execution_count": 0,
      "outputs": []
    },
    {
      "cell_type": "markdown",
      "metadata": {
        "id": "LurnMISSoci7",
        "colab_type": "text"
      },
      "source": [
        "Nous attendons de pouvoir appeler les fonctions C++ en Python pour réaliser ce cas de test "
      ]
    },
    {
      "cell_type": "markdown",
      "metadata": {
        "colab_type": "text",
        "id": "gZlONmsp1T_W"
      },
      "source": [
        "### XOR :\n",
        "        Linear Model    : KO\n",
        "        MLP (2, 2, 1)   : OK"
      ]
    },
    {
      "cell_type": "code",
      "metadata": {
        "colab_type": "code",
        "id": "673wfC9U1T_W",
        "colab": {}
      },
      "source": [
        "X = np.array([[1, 0], [0, 1], [0, 0], [1, 1]])\n",
        "Y = np.array([1, 1, -1, -1])"
      ],
      "execution_count": 0,
      "outputs": []
    },
    {
      "cell_type": "markdown",
      "metadata": {
        "id": "PljfYwlSomc-",
        "colab_type": "text"
      },
      "source": [
        "Il nous a fallu plusieurs essais pour avoir eu des résultats assez concluant (mal chance du random)\n",
        "Avec un nombre d'itération de 100000 et un alpha de 0.1, on  a pu approximer les résultats attendus. "
      ]
    },
    {
      "cell_type": "markdown",
      "metadata": {
        "colab_type": "text",
        "id": "5qxkXVo02MpM"
      },
      "source": [
        "### Cross :\n",
        "        Linear Model    : KO\n",
        "        MLP (2, 4, 1)   : OK"
      ]
    },
    {
      "cell_type": "code",
      "metadata": {
        "colab_type": "code",
        "id": "7kkrrfnX2MpM",
        "colab": {}
      },
      "source": [
        "X = np.random.random((500, 2)) * 2.0 - 1.0\n",
        "Y = np.array([1 if abs(p[0]) <= 0.3 or abs(p[1]) <= 0.3 else -1 for p in X])"
      ],
      "execution_count": 0,
      "outputs": []
    },
    {
      "cell_type": "markdown",
      "metadata": {
        "id": "1XZ-p1VXo6Fd",
        "colab_type": "text"
      },
      "source": [
        "Nous attendons de pouvoir appeler les fonctions C++ en Python pour réaliser ce cas de test \n",
        "\n",
        "---\n",
        "\n"
      ]
    },
    {
      "cell_type": "markdown",
      "metadata": {
        "colab_type": "text",
        "id": "v4hhnYge928d"
      },
      "source": [
        "### Multi Linear 3 classes :\n",
        "        Linear Model x3 : OK\n",
        "        MLP (2, 3)      : OK"
      ]
    },
    {
      "cell_type": "code",
      "metadata": {
        "colab_type": "code",
        "id": "IvhvqkDw928q",
        "colab": {}
      },
      "source": [
        "X = np.random.random((500, 2)) * 2.0 - 1.0\n",
        "Y = np.array([[1, 0, 0] if -p[0] - p[1] - 0.5 > 0 and p[1] < 0 and p[0] - p[1] - 0.5 < 0 else \n",
        "              [0, 1, 0] if -p[0] - p[1] - 0.5 < 0 and p[1] > 0 and p[0] - p[1] - 0.5 < 0 else \n",
        "              [0, 0, 1] if -p[0] - p[1] - 0.5 < 0 and p[1] < 0 and p[0] - p[1] - 0.5 > 0 else \n",
        "              [0, 0, 0]for p in X])"
      ],
      "execution_count": 0,
      "outputs": []
    },
    {
      "cell_type": "markdown",
      "metadata": {
        "id": "tAuVQZrTqyyK",
        "colab_type": "text"
      },
      "source": [
        "Nous attendons de pouvoir appeler les fonctions C++ en Python pour réaliser ce cas de test \n",
        "\n",
        "---\n",
        "\n"
      ]
    },
    {
      "cell_type": "markdown",
      "metadata": {
        "colab_type": "text",
        "id": "uKFBx2m066i2"
      },
      "source": [
        "### Multi Cross :\n",
        "        Linear Model x3 : KO\n",
        "        MLP (2, ?, ?, 3): OK"
      ]
    },
    {
      "cell_type": "code",
      "metadata": {
        "colab_type": "code",
        "id": "0ZE8OW-K66i5",
        "colab": {}
      },
      "source": [
        "X = np.random.random((1000, 2)) * 2.0 - 1.0\n",
        "Y = np.array([[1, 0, 0] if abs(p[0] % 0.5) <= 0.25 and abs(p[1] % 0.5) > 0.25 else [0, 1, 0] if abs(p[0] % 0.5) > 0.25 and abs(p[1] % 0.5) <= 0.25 else [0, 0, 1] for p in X])"
      ],
      "execution_count": 0,
      "outputs": []
    },
    {
      "cell_type": "markdown",
      "metadata": {
        "id": "WOGDQik0q0rU",
        "colab_type": "text"
      },
      "source": [
        "Nous attendons de pouvoir appeler les fonctions C++ en Python pour réaliser ce cas de test \n",
        "\n",
        "---\n",
        "\n"
      ]
    },
    {
      "cell_type": "markdown",
      "metadata": {
        "colab_type": "text",
        "id": "zyrivJMK_WOQ"
      },
      "source": [
        "## Régression"
      ]
    },
    {
      "cell_type": "markdown",
      "metadata": {
        "colab_type": "text",
        "id": "p4EB787A_WOR"
      },
      "source": [
        "### Linear Simple 2D :\n",
        "        Linear Model : OK\n",
        "        MLP (1, 1)   : OK"
      ]
    },
    {
      "cell_type": "code",
      "metadata": {
        "colab_type": "code",
        "id": "dan93I7A_WOR",
        "colab": {}
      },
      "source": [
        "X = np.array([\n",
        "      [1],\n",
        "      [2]\n",
        "])\n",
        "Y = np.array([\n",
        "      2,\n",
        "      3\n",
        "])"
      ],
      "execution_count": 0,
      "outputs": []
    },
    {
      "cell_type": "markdown",
      "metadata": {
        "id": "xLENZrRIq6xh",
        "colab_type": "text"
      },
      "source": [
        "Avec un nombre d'itération de 100000 et un alpha de 0.1, on  a pu approximer les résultats attendus"
      ]
    },
    {
      "cell_type": "markdown",
      "metadata": {
        "colab_type": "text",
        "id": "CkFb79fq_6ci"
      },
      "source": [
        "### Non Linear Simple 2D :\n",
        "        Linear Model    : OK\n",
        "        MLP (1, ?, 1)   : OK"
      ]
    },
    {
      "cell_type": "code",
      "metadata": {
        "colab_type": "code",
        "id": "sZqi1Yy3_6cj",
        "colab": {}
      },
      "source": [
        "X = np.array([\n",
        "      [1],\n",
        "      [2],\n",
        "      [3]\n",
        "])\n",
        "Y = np.array([\n",
        "      2,\n",
        "      3,\n",
        "      2.5\n",
        "])"
      ],
      "execution_count": 0,
      "outputs": []
    },
    {
      "cell_type": "markdown",
      "metadata": {
        "id": "bt6L7WPnsKrZ",
        "colab_type": "text"
      },
      "source": [
        "Avec une couche caché de 3 neurone, on a pu approcher les résultats"
      ]
    },
    {
      "cell_type": "markdown",
      "metadata": {
        "colab_type": "text",
        "id": "WT1s5lZxAJuL"
      },
      "source": [
        "### Linear Simple 3D :\n",
        "        Linear Model    : OK\n",
        "        MLP (2, 1)      : OK"
      ]
    },
    {
      "cell_type": "code",
      "metadata": {
        "colab_type": "code",
        "id": "KL_IanGMAJuM",
        "colab": {}
      },
      "source": [
        "X = np.array([\n",
        "      [1, 1],\n",
        "      [2, 2],\n",
        "      [3, 1]\n",
        "])\n",
        "Y = np.array([\n",
        "      2,\n",
        "      3,\n",
        "      2.5\n",
        "])"
      ],
      "execution_count": 0,
      "outputs": []
    },
    {
      "cell_type": "markdown",
      "metadata": {
        "colab_type": "text",
        "id": "kO361TllBqbm"
      },
      "source": [
        "### Linear Tricky 3D :\n",
        "        Linear Model    : OK\n",
        "        MLP (2, 1)      : OK"
      ]
    },
    {
      "cell_type": "code",
      "metadata": {
        "colab_type": "code",
        "id": "nR_i7qLxBqbm",
        "colab": {}
      },
      "source": [
        "X = np.array([\n",
        "      [1, 1],\n",
        "      [2, 2],\n",
        "      [3, 3]\n",
        "])\n",
        "Y = np.array([\n",
        "      1,\n",
        "      2,\n",
        "      3\n",
        "])"
      ],
      "execution_count": 0,
      "outputs": []
    },
    {
      "cell_type": "markdown",
      "metadata": {
        "colab_type": "text",
        "id": "H_h0_vtCBEzk"
      },
      "source": [
        "### Non Linear Simple 3D :\n",
        "        Linear Model       : KO\n",
        "        MLP (2, 2, 1)      : OK"
      ]
    },
    {
      "cell_type": "code",
      "metadata": {
        "colab_type": "code",
        "id": "ij70I1H9BEzk",
        "colab": {}
      },
      "source": [
        "X = np.array([\n",
        "      [1, 0],\n",
        "      [0, 1],\n",
        "      [1, 1],\n",
        "      [0, 0],\n",
        "])\n",
        "Y = np.array([\n",
        "      2,\n",
        "      1,\n",
        "      -2,\n",
        "      -1\n",
        "])"
      ],
      "execution_count": 0,
      "outputs": []
    }
  ]
}